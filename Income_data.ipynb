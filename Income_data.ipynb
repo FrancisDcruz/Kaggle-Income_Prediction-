{
  "nbformat": 4,
  "nbformat_minor": 0,
  "metadata": {
    "colab": {
      "name": "Income data.ipynb",
      "provenance": [],
      "collapsed_sections": [],
      "include_colab_link": true
    },
    "kernelspec": {
      "name": "python3",
      "display_name": "Python 3"
    }
  },
  "cells": [
    {
      "cell_type": "markdown",
      "metadata": {
        "id": "view-in-github",
        "colab_type": "text"
      },
      "source": [
        "<a href=\"https://colab.research.google.com/github/FrancisDcruz/Kaggle-Income_Prediction-/blob/main/Income_data.ipynb\" target=\"_parent\"><img src=\"https://colab.research.google.com/assets/colab-badge.svg\" alt=\"Open In Colab\"/></a>"
      ]
    },
    {
      "cell_type": "code",
      "metadata": {
        "id": "5tghvEjRsoE8"
      },
      "source": [
        "import numpy as np\n",
        "import pandas as pd\n",
        "import matplotlib.pyplot as plt\n",
        "from sklearn.model_selection import cross_val_score\n",
        "from sklearn.preprocessing import LabelEncoder\n",
        "from sklearn.model_selection import GridSearchCV\n",
        "from sklearn.svm import SVC"
      ],
      "execution_count": 1,
      "outputs": []
    },
    {
      "cell_type": "code",
      "metadata": {
        "id": "fRgJXR1ostfQ"
      },
      "source": [
        "from google.colab import files\n",
        "files.upload()"
      ],
      "execution_count": null,
      "outputs": []
    },
    {
      "cell_type": "code",
      "metadata": {
        "id": "UeK_QhDVsw-v"
      },
      "source": [
        "data=pd.read_csv('/content/train.csv')"
      ],
      "execution_count": 8,
      "outputs": []
    },
    {
      "cell_type": "code",
      "metadata": {
        "colab": {
          "base_uri": "https://localhost:8080/"
        },
        "id": "IIcVjFyeYHoG",
        "outputId": "af9df5d1-3105-407e-81ed-af84c4b3f055"
      },
      "source": [
        "data['workclass'].value_counts()"
      ],
      "execution_count": 9,
      "outputs": [
        {
          "output_type": "execute_result",
          "data": {
            "text/plain": [
              "Private             30587\n",
              "Self-emp-not-inc     3464\n",
              "Local-gov            2822\n",
              "State-gov            1756\n",
              "Self-emp-inc         1518\n",
              "Federal-gov          1284\n",
              "Without-pay            20\n",
              "Never-worked            8\n",
              "Name: workclass, dtype: int64"
            ]
          },
          "metadata": {
            "tags": []
          },
          "execution_count": 9
        }
      ]
    },
    {
      "cell_type": "code",
      "metadata": {
        "id": "nVffwaZrt3xy"
      },
      "source": [
        "data=data.dropna()\n",
        "data = data[data['native-country']=='United-States']\n",
        "data= data.drop('native-country', axis = 1)"
      ],
      "execution_count": 10,
      "outputs": []
    },
    {
      "cell_type": "code",
      "metadata": {
        "colab": {
          "base_uri": "https://localhost:8080/"
        },
        "id": "YOH5u_vSTFBd",
        "outputId": "adda15f9-497f-4608-c63d-2d16d65fbd1b"
      },
      "source": [
        "data['workclass'].value_counts()"
      ],
      "execution_count": 11,
      "outputs": [
        {
          "output_type": "execute_result",
          "data": {
            "text/plain": [
              "Private             27181\n",
              "Self-emp-not-inc     3146\n",
              "Local-gov            2650\n",
              "State-gov            1624\n",
              "Self-emp-inc         1359\n",
              "Federal-gov          1189\n",
              "Without-pay            19\n",
              "Name: workclass, dtype: int64"
            ]
          },
          "metadata": {
            "tags": []
          },
          "execution_count": 11
        }
      ]
    },
    {
      "cell_type": "code",
      "metadata": {
        "colab": {
          "base_uri": "https://localhost:8080/"
        },
        "id": "xfSEOaa204Vq",
        "outputId": "e7d78fbb-5dec-47c4-9169-f390582d96ca"
      },
      "source": [
        "data_categorical=data.select_dtypes(include=['object']).columns\n",
        "df_dummy=pd.get_dummies(data[data_categorical])\n",
        "df_dummy.shape"
      ],
      "execution_count": 15,
      "outputs": [
        {
          "output_type": "execute_result",
          "data": {
            "text/plain": [
              "(37168, 57)"
            ]
          },
          "metadata": {
            "tags": []
          },
          "execution_count": 15
        }
      ]
    },
    {
      "cell_type": "code",
      "metadata": {
        "colab": {
          "base_uri": "https://localhost:8080/"
        },
        "id": "6N1dGEdCKSKQ",
        "outputId": "3549bca8-126e-4b4e-9181-52d32a8dc1bc"
      },
      "source": [
        "num_cols = [ col for col in list(data.columns) if data[col].dtype !='object'  and  col != 'income_>50K']\n",
        "num_cols"
      ],
      "execution_count": 16,
      "outputs": [
        {
          "output_type": "execute_result",
          "data": {
            "text/plain": [
              "['age',\n",
              " 'fnlwgt',\n",
              " 'educational-num',\n",
              " 'capital-gain',\n",
              " 'capital-loss',\n",
              " 'hours-per-week']"
            ]
          },
          "metadata": {
            "tags": []
          },
          "execution_count": 16
        }
      ]
    },
    {
      "cell_type": "code",
      "metadata": {
        "colab": {
          "base_uri": "https://localhost:8080/"
        },
        "id": "oYcyrJsS1qDP",
        "outputId": "ae6229f9-94e7-450b-963f-07a6cf2080a4"
      },
      "source": [
        "final_data = pd.DataFrame()\n",
        "final_data = pd.concat([df_dummy , data[num_cols] , data['income_>50K'] ] , axis = 1)\n",
        "final_data.shape"
      ],
      "execution_count": 17,
      "outputs": [
        {
          "output_type": "execute_result",
          "data": {
            "text/plain": [
              "(37168, 64)"
            ]
          },
          "metadata": {
            "tags": []
          },
          "execution_count": 17
        }
      ]
    },
    {
      "cell_type": "code",
      "metadata": {
        "id": "k-WFtylOwn9m"
      },
      "source": [
        "x=final_data.drop(['income_>50K'],axis=1)\n",
        "y=final_data['income_>50K']"
      ],
      "execution_count": 18,
      "outputs": []
    },
    {
      "cell_type": "code",
      "metadata": {
        "id": "AKa_KthxtX5B"
      },
      "source": [
        "from sklearn.model_selection import train_test_split \n",
        "x_train, x_test, y_train, y_test = train_test_split( x, y, test_size = 0.3, random_state = 0) "
      ],
      "execution_count": 19,
      "outputs": []
    },
    {
      "cell_type": "markdown",
      "metadata": {
        "id": "zKvy6U1QuDy4"
      },
      "source": [
        "Random Forest"
      ]
    },
    {
      "cell_type": "code",
      "metadata": {
        "id": "AuuOMeeEuCAa"
      },
      "source": [
        "from sklearn.ensemble import RandomForestClassifier\n",
        "classifier = RandomForestClassifier(n_estimators =200, criterion = 'gini', max_depth=15, max_features='auto',random_state = 0)\n",
        "classifier.fit(x_train, y_train)\n",
        "y_pred_test = classifier.predict(x_test) "
      ],
      "execution_count": 20,
      "outputs": []
    },
    {
      "cell_type": "code",
      "metadata": {
        "id": "KKrze0pmuL5Q",
        "colab": {
          "base_uri": "https://localhost:8080/"
        },
        "outputId": "01f12a65-7e49-4a46-f0f9-8eb05f38f21f"
      },
      "source": [
        "from sklearn.metrics import classification_report, confusion_matrix  \n",
        "print(confusion_matrix(y_test, y_pred_test))  "
      ],
      "execution_count": 21,
      "outputs": [
        {
          "output_type": "stream",
          "text": [
            "[[7882  434]\n",
            " [1223 1612]]\n"
          ],
          "name": "stdout"
        }
      ]
    },
    {
      "cell_type": "code",
      "metadata": {
        "id": "ia33w3MEuN35",
        "colab": {
          "base_uri": "https://localhost:8080/"
        },
        "outputId": "add51662-7ed9-4a52-de45-056764f1151c"
      },
      "source": [
        "from sklearn.metrics import accuracy_score\n",
        "acc = accuracy_score(y_test,y_pred_test)\n",
        "print(\"Accuracy for this model {} %\".format(acc*100))"
      ],
      "execution_count": 22,
      "outputs": [
        {
          "output_type": "stream",
          "text": [
            "Accuracy for this model 85.14034615729531 %\n"
          ],
          "name": "stdout"
        }
      ]
    },
    {
      "cell_type": "code",
      "metadata": {
        "id": "pDvSFRRp8foQ"
      },
      "source": [
        "from sklearn.preprocessing import StandardScaler\n",
        "sc= StandardScaler()\n",
        "x= sc.fit_transform(x_train)"
      ],
      "execution_count": 23,
      "outputs": []
    },
    {
      "cell_type": "markdown",
      "metadata": {
        "id": "FPWMoTjztoX8"
      },
      "source": [
        "SVM"
      ]
    },
    {
      "cell_type": "code",
      "metadata": {
        "id": "KZkXgHNMarQf"
      },
      "source": [
        "parameters=[{'C':[1,10,100,1000],'kernel':['linear']},\n",
        "            {'C':[1,10,100,1000],'kernel':['rbf'],'gamma':[0.1,0.2,0.3,0.4,0.5,0.6,0.7,0.8,0.9]}]\n",
        "classifier= SVC()\n",
        "grid_search=GridSearchCV(estimator=classifier,\n",
        "                         param_grid=parameters,\n",
        "                         scoring='accuracy',\n",
        "                         cv=10,\n",
        "                         n_jobs=-1)\n",
        "grid_search=grid_search.fit(x_train,y_train)"
      ],
      "execution_count": null,
      "outputs": []
    },
    {
      "cell_type": "markdown",
      "metadata": {
        "id": "1CrxZ-l2hkZN"
      },
      "source": [
        "SVM\n"
      ]
    },
    {
      "cell_type": "code",
      "metadata": {
        "id": "2bThV7_btpqS",
        "colab": {
          "base_uri": "https://localhost:8080/"
        },
        "outputId": "3bfcdda0-ff47-47cb-c43e-6687656978d9"
      },
      "source": [
        "from sklearn.svm import SVC\n",
        "classifier1= SVC()\n",
        "classifier1.fit(x_train,y_train)"
      ],
      "execution_count": 25,
      "outputs": [
        {
          "output_type": "execute_result",
          "data": {
            "text/plain": [
              "SVC(C=1.0, break_ties=False, cache_size=200, class_weight=None, coef0=0.0,\n",
              "    decision_function_shape='ovr', degree=3, gamma='scale', kernel='rbf',\n",
              "    max_iter=-1, probability=False, random_state=None, shrinking=True,\n",
              "    tol=0.001, verbose=False)"
            ]
          },
          "metadata": {
            "tags": []
          },
          "execution_count": 25
        }
      ]
    },
    {
      "cell_type": "code",
      "metadata": {
        "id": "uyIotzl8t6Uy",
        "colab": {
          "base_uri": "https://localhost:8080/"
        },
        "outputId": "60ca409c-bfd6-4ffc-e7bb-7e9baf492df0"
      },
      "source": [
        "y_pred_test1 = classifier1.predict(x_test)  \n",
        "print(y_pred_test1)"
      ],
      "execution_count": 26,
      "outputs": [
        {
          "output_type": "stream",
          "text": [
            "[0 0 0 ... 0 0 0]\n"
          ],
          "name": "stdout"
        }
      ]
    },
    {
      "cell_type": "code",
      "metadata": {
        "id": "dHDTeOfPt8v4",
        "colab": {
          "base_uri": "https://localhost:8080/"
        },
        "outputId": "6127a5a8-eea5-4f15-e879-b708b56b9fac"
      },
      "source": [
        "from sklearn.metrics import classification_report, confusion_matrix  \n",
        "print(confusion_matrix(y_test, y_pred_test1)) "
      ],
      "execution_count": 27,
      "outputs": [
        {
          "output_type": "stream",
          "text": [
            "[[8307    9]\n",
            " [2416  419]]\n"
          ],
          "name": "stdout"
        }
      ]
    },
    {
      "cell_type": "code",
      "metadata": {
        "id": "1HmblvGIt_hG",
        "colab": {
          "base_uri": "https://localhost:8080/"
        },
        "outputId": "22262e4c-0239-44d9-e017-03a9b4a16098"
      },
      "source": [
        "from sklearn.metrics import accuracy_score\n",
        "acc = accuracy_score(y_test,y_pred_test1)\n",
        "print(\"Accuracy for this model {} %\".format(acc*100))"
      ],
      "execution_count": 28,
      "outputs": [
        {
          "output_type": "stream",
          "text": [
            "Accuracy for this model 78.25307147341046 %\n"
          ],
          "name": "stdout"
        }
      ]
    }
  ]
}